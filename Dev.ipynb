{
 "metadata": {
  "language_info": {
   "codemirror_mode": {
    "name": "ipython",
    "version": 3
   },
   "file_extension": ".py",
   "mimetype": "text/x-python",
   "name": "python",
   "nbconvert_exporter": "python",
   "pygments_lexer": "ipython3",
   "version": "3.8.5-final"
  },
  "orig_nbformat": 2,
  "kernelspec": {
   "name": "python3",
   "display_name": "Python 3"
  }
 },
 "nbformat": 4,
 "nbformat_minor": 2,
 "cells": [
  {
   "cell_type": "code",
   "execution_count": 2,
   "metadata": {},
   "outputs": [],
   "source": [
    "# Import packages\n",
    "import torch\n",
    "import torch.nn as nn\n",
    "import torch.nn.functional as F\n",
    "\n",
    "# Choose device\n",
    "USE_GPU = True\n",
    "\n",
    "device = None\n",
    "if USE_GPU and torch.cuda.is_available():\n",
    "    device = torch.device('cuda')\n",
    "else:\n",
    "    device = torch.device('cpu')"
   ]
  },
  {
   "cell_type": "code",
   "execution_count": null,
   "metadata": {},
   "outputs": [],
   "source": [
    "# Example torch.nn.Module model\n",
    "class Net(nn.Module):\n",
    "    def __init__(self, input_size, hidden_size, target_length):\n",
    "        super().__init__()\n",
    "        self.h = torch.nn.Linear(input_size, hidden_size)\n",
    "        self.o = torch.nn.Linear(hidden_size, target_length)\n",
    "\n",
    "    def forward(self, x):\n",
    "        x = self.h(x)\n",
    "        x = F.relu(x)\n",
    "        x = self.o(x)\n",
    "        return x"
   ]
  }
 ]
}